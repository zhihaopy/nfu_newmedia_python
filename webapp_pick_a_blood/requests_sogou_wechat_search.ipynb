{
 "cells": [
  {
   "cell_type": "code",
   "execution_count": 1,
   "metadata": {
    "collapsed": true
   },
   "outputs": [],
   "source": [
    "# 使用requests爬 sogou 微信 搜索\n",
    "### 以下文件內容，注意：(A) 请求参数及用法 及 (B) 服务地址\n",
    "import requests\n",
    "from requests.utils import urlparse, urlunparse, quote"
   ]
  },
  {
   "cell_type": "markdown",
   "metadata": {},
   "source": [
    "# 一：文章  type = 2  "
   ]
  },
  {
   "cell_type": "code",
   "execution_count": 2,
   "metadata": {},
   "outputs": [],
   "source": [
    "url_api = \"http://weixin.sogou.com/weixin\"\n",
    "parameters = {'type': 2,      # 公眾  type = 1  ;     文章  type = 2  \n",
    "              'query':'牛津'}\n",
    "r = requests.get (url_api, params=parameters)"
   ]
  },
  {
   "cell_type": "code",
   "execution_count": 3,
   "metadata": {},
   "outputs": [],
   "source": [
    "with open (\"test.htm\", \"w\", encoding='utf8') as fp: \n",
    "    fp.write(r.content.decode('utf-8'))"
   ]
  },
  {
   "cell_type": "code",
   "execution_count": 4,
   "metadata": {},
   "outputs": [],
   "source": [
    "# r.content （html網頁結果）用lxml解析\n",
    "# 用xpath擷取內容\n",
    "# for 文章  type = 2\n",
    "from lxml.html import document_fromstring\n",
    "#from lxml import etree\n",
    "html = r.content.decode('utf-8')\n",
    "#selector = html.HTML(html)\n",
    "selector = document_fromstring(html)\n",
    "\n",
    "# Xpath found\n",
    "# weixin_url:  $x('//div[@class=\"txt-box\"]/h3/a[starts-with(@uigs,\"article_title\")]/@href')\n",
    "# weixin_title:  $x('//div[@class=\"txt-box\"]/h3/a[starts-with(@uigs,\"article_title\")]/text()')\n",
    "# weixin_snippet:  $x('//div[@class=\"txt-box\"]/p[starts-with(@id,\"sogo_u\")]/text()')\n",
    "# weixin_account_url:  $x('//div[@class=\"txt-box\"]/div[@class=\"s-p\"]/a[@class=\"account\"]/@href')\n",
    "# weixin_account:  $x('//div[@class=\"txt-box\"]/div[@class=\"s-p\"]/a[@class=\"account\"]/text()')\n",
    "\n",
    "xpaths = { 'url':    '//div[@class=\"txt-box\"]/h3/a[starts-with(@uigs,\"article_title\")]/@href',\n",
    "           'title':  '//div[@class=\"txt-box\"]/h3/a[starts-with(@uigs,\"article_title\")]',\n",
    "           'snippet':'//div[@class=\"txt-box\"]/p[contains(@id,\"summary\")]',\n",
    "           'account_url':  '//div[@class=\"txt-box\"]/div[@class=\"s-p\"]/a[@class=\"account\"]/@href',\n",
    "           'account':      '//div[@class=\"txt-box\"]/div[@class=\"s-p\"]/a[@class=\"account\"]',\n",
    "         }\n",
    "\n",
    "content = {}\n",
    "for k,v in xpaths.items():\n",
    "    content[k] = [x for x in selector.xpath(v)]\n",
    "\n",
    "for p in ['title', 'snippet', 'account']:\n",
    "    content[p] = [x.text_content() for x in content[p]]"
   ]
  },
  {
   "cell_type": "code",
   "execution_count": 5,
   "metadata": {},
   "outputs": [
    {
     "data": {
      "text/html": [
       "<div>\n",
       "<style>\n",
       "    .dataframe thead tr:only-child th {\n",
       "        text-align: right;\n",
       "    }\n",
       "\n",
       "    .dataframe thead th {\n",
       "        text-align: left;\n",
       "    }\n",
       "\n",
       "    .dataframe tbody tr th {\n",
       "        vertical-align: top;\n",
       "    }\n",
       "</style>\n",
       "<table border=\"1\" class=\"dataframe\">\n",
       "  <thead>\n",
       "    <tr style=\"text-align: right;\">\n",
       "      <th></th>\n",
       "      <th>account</th>\n",
       "      <th>account_url</th>\n",
       "      <th>snippet</th>\n",
       "      <th>title</th>\n",
       "      <th>url</th>\n",
       "    </tr>\n",
       "  </thead>\n",
       "  <tbody>\n",
       "    <tr>\n",
       "      <th>0</th>\n",
       "      <td>lisa馨妈英语学习</td>\n",
       "      <td>http://mp.weixin.qq.com/profile?src=3&amp;timestam...</td>\n",
       "      <td>上课时间:每周1次,初级班(2 级)周五晚上20:00-20:30,高级班(6级))周日晚上...</td>\n",
       "      <td>牛津树 六级Dutch Adventure(第三次)荷兰历险(线上绘本班)</td>\n",
       "      <td>http://mp.weixin.qq.com/s?src=3&amp;timestamp=1497...</td>\n",
       "    </tr>\n",
       "    <tr>\n",
       "      <th>1</th>\n",
       "      <td>海口牛津双语幼儿园</td>\n",
       "      <td>http://mp.weixin.qq.com/profile?src=3&amp;timestam...</td>\n",
       "      <td>牛津国际放假通知: 尊敬的家长:你好!牛津国际幼儿园暑假放假时间为2017年7月7日—8月3...</td>\n",
       "      <td>牛津国际暑期开班啦!</td>\n",
       "      <td>http://mp.weixin.qq.com/s?src=3&amp;timestamp=1497...</td>\n",
       "    </tr>\n",
       "    <tr>\n",
       "      <th>2</th>\n",
       "      <td>Patty老师成长学堂</td>\n",
       "      <td>http://mp.weixin.qq.com/profile?src=3&amp;timestam...</td>\n",
       "      <td>Oxford Reading Tree Stage 1-14 Floppy Floppy今天...</td>\n",
       "      <td>牛津阅读树 第二级 2-2 New Trainers</td>\n",
       "      <td>http://mp.weixin.qq.com/s?src=3&amp;timestamp=1497...</td>\n",
       "    </tr>\n",
       "    <tr>\n",
       "      <th>3</th>\n",
       "      <td>索达吉堪布</td>\n",
       "      <td>http://mp.weixin.qq.com/profile?src=3&amp;timestam...</td>\n",
       "      <td>这是牛津大学的一个跨学科研究生院,建立于1962年,目前聚集了来自一百三十多个国家的学者.我...</td>\n",
       "      <td>牛津的“心”希望——索达吉堪布的牛津记忆②</td>\n",
       "      <td>http://mp.weixin.qq.com/s?src=3&amp;timestamp=1497...</td>\n",
       "    </tr>\n",
       "    <tr>\n",
       "      <th>4</th>\n",
       "      <td>深派英语</td>\n",
       "      <td>http://mp.weixin.qq.com/profile?src=3&amp;timestam...</td>\n",
       "      <td>牛津深圳版三下Unit 8重点句子听写1. Happy birthday to you.2....</td>\n",
       "      <td>牛津深圳版三下Unit 8重点句子听写</td>\n",
       "      <td>http://mp.weixin.qq.com/s?src=3&amp;timestamp=1497...</td>\n",
       "    </tr>\n",
       "    <tr>\n",
       "      <th>5</th>\n",
       "      <td>蜗牛亲子时光</td>\n",
       "      <td>http://mp.weixin.qq.com/profile?src=3&amp;timestam...</td>\n",
       "      <td>第一个故事Six in a bedSix in a BedWritten by Roderi...</td>\n",
       "      <td>牛津树 Level 1 || Six in a Bed &amp; Get Dad</td>\n",
       "      <td>http://mp.weixin.qq.com/s?src=3&amp;timestamp=1497...</td>\n",
       "    </tr>\n",
       "    <tr>\n",
       "      <th>6</th>\n",
       "      <td>深派英语</td>\n",
       "      <td>http://mp.weixin.qq.com/profile?src=3&amp;timestam...</td>\n",
       "      <td>牛津深圳版三下Unit 7重点句子听写1. What do you like?2. I li...</td>\n",
       "      <td>牛津深圳版三下Unit 7重点句子听写</td>\n",
       "      <td>http://mp.weixin.qq.com/s?src=3&amp;timestamp=1497...</td>\n",
       "    </tr>\n",
       "    <tr>\n",
       "      <th>7</th>\n",
       "      <td>小象</td>\n",
       "      <td>http://mp.weixin.qq.com/profile?src=3&amp;timestam...</td>\n",
       "      <td>我相信这么优秀 的你已经置顶了我转自:199IT互联网中心(i199it)来自牛津大学人类未...</td>\n",
       "      <td>牛津大学:人工智能何时超越人类</td>\n",
       "      <td>http://mp.weixin.qq.com/s?src=3&amp;timestamp=1497...</td>\n",
       "    </tr>\n",
       "    <tr>\n",
       "      <th>8</th>\n",
       "      <td>卡尔美中国</td>\n",
       "      <td>http://mp.weixin.qq.com/profile?src=3&amp;timestam...</td>\n",
       "      <td>卡尔美助力,第一届名校世界杯完美落幕 2016年由剑桥大学、牛津大学、南加州大学、墨尔本大学...</td>\n",
       "      <td>牛津、剑桥、北大、清华,谁是你心中的NO.1?</td>\n",
       "      <td>http://mp.weixin.qq.com/s?src=3&amp;timestamp=1497...</td>\n",
       "    </tr>\n",
       "    <tr>\n",
       "      <th>9</th>\n",
       "      <td>学府163之家</td>\n",
       "      <td>http://mp.weixin.qq.com/profile?src=3&amp;timestam...</td>\n",
       "      <td>↓↓牛津英语深圳版一年级下册 视频Unit1Unit2Unit3Unit4Unit5Unit...</td>\n",
       "      <td>牛津英语深圳版一年级(上/下册)</td>\n",
       "      <td>http://mp.weixin.qq.com/s?src=3&amp;timestamp=1497...</td>\n",
       "    </tr>\n",
       "  </tbody>\n",
       "</table>\n",
       "</div>"
      ],
      "text/plain": [
       "       account                                        account_url  \\\n",
       "0   lisa馨妈英语学习  http://mp.weixin.qq.com/profile?src=3&timestam...   \n",
       "1    海口牛津双语幼儿园  http://mp.weixin.qq.com/profile?src=3&timestam...   \n",
       "2  Patty老师成长学堂  http://mp.weixin.qq.com/profile?src=3&timestam...   \n",
       "3        索达吉堪布  http://mp.weixin.qq.com/profile?src=3&timestam...   \n",
       "4         深派英语  http://mp.weixin.qq.com/profile?src=3&timestam...   \n",
       "5       蜗牛亲子时光  http://mp.weixin.qq.com/profile?src=3&timestam...   \n",
       "6         深派英语  http://mp.weixin.qq.com/profile?src=3&timestam...   \n",
       "7           小象  http://mp.weixin.qq.com/profile?src=3&timestam...   \n",
       "8        卡尔美中国  http://mp.weixin.qq.com/profile?src=3&timestam...   \n",
       "9      学府163之家  http://mp.weixin.qq.com/profile?src=3&timestam...   \n",
       "\n",
       "                                             snippet  \\\n",
       "0  上课时间:每周1次,初级班(2 级)周五晚上20:00-20:30,高级班(6级))周日晚上...   \n",
       "1  牛津国际放假通知: 尊敬的家长:你好!牛津国际幼儿园暑假放假时间为2017年7月7日—8月3...   \n",
       "2  Oxford Reading Tree Stage 1-14 Floppy Floppy今天...   \n",
       "3  这是牛津大学的一个跨学科研究生院,建立于1962年,目前聚集了来自一百三十多个国家的学者.我...   \n",
       "4  牛津深圳版三下Unit 8重点句子听写1. Happy birthday to you.2....   \n",
       "5  第一个故事Six in a bedSix in a BedWritten by Roderi...   \n",
       "6  牛津深圳版三下Unit 7重点句子听写1. What do you like?2. I li...   \n",
       "7  我相信这么优秀 的你已经置顶了我转自:199IT互联网中心(i199it)来自牛津大学人类未...   \n",
       "8  卡尔美助力,第一届名校世界杯完美落幕 2016年由剑桥大学、牛津大学、南加州大学、墨尔本大学...   \n",
       "9  ↓↓牛津英语深圳版一年级下册 视频Unit1Unit2Unit3Unit4Unit5Unit...   \n",
       "\n",
       "                                   title  \\\n",
       "0  牛津树 六级Dutch Adventure(第三次)荷兰历险(线上绘本班)   \n",
       "1                             牛津国际暑期开班啦!   \n",
       "2             牛津阅读树 第二级 2-2 New Trainers   \n",
       "3                  牛津的“心”希望——索达吉堪布的牛津记忆②   \n",
       "4                    牛津深圳版三下Unit 8重点句子听写   \n",
       "5  牛津树 Level 1 || Six in a Bed & Get Dad   \n",
       "6                    牛津深圳版三下Unit 7重点句子听写   \n",
       "7                        牛津大学:人工智能何时超越人类   \n",
       "8                牛津、剑桥、北大、清华,谁是你心中的NO.1?   \n",
       "9                       牛津英语深圳版一年级(上/下册)   \n",
       "\n",
       "                                                 url  \n",
       "0  http://mp.weixin.qq.com/s?src=3&timestamp=1497...  \n",
       "1  http://mp.weixin.qq.com/s?src=3&timestamp=1497...  \n",
       "2  http://mp.weixin.qq.com/s?src=3&timestamp=1497...  \n",
       "3  http://mp.weixin.qq.com/s?src=3&timestamp=1497...  \n",
       "4  http://mp.weixin.qq.com/s?src=3&timestamp=1497...  \n",
       "5  http://mp.weixin.qq.com/s?src=3&timestamp=1497...  \n",
       "6  http://mp.weixin.qq.com/s?src=3&timestamp=1497...  \n",
       "7  http://mp.weixin.qq.com/s?src=3&timestamp=1497...  \n",
       "8  http://mp.weixin.qq.com/s?src=3&timestamp=1497...  \n",
       "9  http://mp.weixin.qq.com/s?src=3&timestamp=1497...  "
      ]
     },
     "execution_count": 5,
     "metadata": {},
     "output_type": "execute_result"
    }
   ],
   "source": [
    "import pandas as pd\n",
    "pd.DataFrame(content)"
   ]
  },
  {
   "cell_type": "code",
   "execution_count": 6,
   "metadata": {},
   "outputs": [
    {
     "data": {
      "text/plain": [
       "['牛津树 六级Dutch Adventure(第三次)荷兰历险(线上绘本班)',\n",
       " '牛津国际暑期开班啦!',\n",
       " '牛津阅读树 第二级 2-2 New Trainers',\n",
       " '牛津的“心”希望——索达吉堪布的牛津记忆②',\n",
       " '牛津深圳版三下Unit 8重点句子听写',\n",
       " '牛津树 Level 1 || Six in a Bed & Get Dad',\n",
       " '牛津深圳版三下Unit 7重点句子听写',\n",
       " '牛津大学:人工智能何时超越人类',\n",
       " '牛津、剑桥、北大、清华,谁是你心中的NO.1?',\n",
       " '牛津英语深圳版一年级(上/下册)']"
      ]
     },
     "execution_count": 6,
     "metadata": {},
     "output_type": "execute_result"
    }
   ],
   "source": [
    "content['title']"
   ]
  },
  {
   "cell_type": "code",
   "execution_count": 7,
   "metadata": {},
   "outputs": [
    {
     "data": {
      "text/plain": [
       "['lisa馨妈英语学习',\n",
       " '海口牛津双语幼儿园',\n",
       " 'Patty老师成长学堂',\n",
       " '索达吉堪布',\n",
       " '深派英语',\n",
       " '蜗牛亲子时光',\n",
       " '深派英语',\n",
       " '小象',\n",
       " '卡尔美中国',\n",
       " '学府163之家']"
      ]
     },
     "execution_count": 7,
     "metadata": {},
     "output_type": "execute_result"
    }
   ],
   "source": [
    "content['account']"
   ]
  },
  {
   "cell_type": "markdown",
   "metadata": {},
   "source": [
    "# 二：公眾  type = 1"
   ]
  },
  {
   "cell_type": "code",
   "execution_count": null,
   "metadata": {
    "collapsed": true
   },
   "outputs": [],
   "source": [
    "url_api = \"http://weixin.sogou.com/weixin\"\n",
    "parameters = {'type': 1,      # 公眾  type = 1  ;     文章  type = 2  \n",
    "              'query':'牛津'}\n",
    "r = requests.get (url_api, params=parameters)"
   ]
  },
  {
   "cell_type": "code",
   "execution_count": null,
   "metadata": {
    "collapsed": true
   },
   "outputs": [],
   "source": [
    "# r.content （html網頁結果）用lxml解析\n",
    "# 用xpath擷取內容\n",
    "# for 公眾  type = 1\n",
    "\n",
    "from lxml.html import document_fromstring\n",
    "#from lxml import etree\n",
    "html = r.content.decode('utf-8')\n",
    "#selector = html.HTML(html)\n",
    "selector = document_fromstring(html)\n",
    "\n",
    "# Xpath  not found yet\n",
    "\n",
    "xpaths = { 'url':    '//div[@class=\"txt-box\"]/h3/a[starts-with(@uigs,\"article_title\")]/@href',\n",
    "           'title':  '//div[@class=\"txt-box\"]/h3/a[starts-with(@uigs,\"article_title\")]',\n",
    "           'snippet':'//div[@class=\"txt-box\"]/p[contains(@id,\"summary\")]',\n",
    "           'account_url':  '//div[@class=\"txt-box\"]/div[@class=\"s-p\"]/a[@class=\"account\"]/@href',\n",
    "           'account':      '//div[@class=\"txt-box\"]/div[@class=\"s-p\"]/a[@class=\"account\"]',\n",
    "         }\n",
    "\n",
    "content = {}\n",
    "for k,v in xpaths.items():\n",
    "    content[k] = [x for x in selector.xpath(v)]\n",
    "\n",
    "for p in ['title', 'snippet', 'account']:\n",
    "    content[p] = [x.text_content() for x in content[p]]"
   ]
  },
  {
   "cell_type": "code",
   "execution_count": null,
   "metadata": {},
   "outputs": [],
   "source": [
    "pd.DataFrame(content)"
   ]
  },
  {
   "cell_type": "markdown",
   "metadata": {},
   "source": [
    "# 反向工程"
   ]
  },
  {
   "cell_type": "code",
   "execution_count": null,
   "metadata": {},
   "outputs": [],
   "source": [
    "# 反向工程\n",
    "url_O型男_文章 = \"http://weixin.sogou.com/weixin?type=2&s_from=input&query=O%E5%9E%8B%E7%94%B7&ie=utf8&_sug_=n&_sug_type_=\"\n",
    "urlp_文章 = urlparse(url_O型男_文章)._asdict()\n",
    "urlp_文章"
   ]
  },
  {
   "cell_type": "code",
   "execution_count": null,
   "metadata": {},
   "outputs": [],
   "source": [
    "# 反向工程\n",
    "url_O型男_公眾 = \"http://weixin.sogou.com/weixin?type=1&s_from=input&query=O%E5%9E%8B%E7%94%B7&ie=utf8&_sug_=n&_sug_type_=\"\n",
    "urlp_公眾 = urlparse(url_O型男_公眾)._asdict()\n",
    "urlp_公眾"
   ]
  },
  {
   "cell_type": "code",
   "execution_count": null,
   "metadata": {},
   "outputs": [],
   "source": [
    "import inspect\n",
    "for x in urlp_公眾.keys():\n",
    "    if urlp_文章[x]==urlp_公眾[x]:\n",
    "        print (\"{k}:\\t一樣是\\t{c}\".format(k=x, c=urlp_文章[x]))\n",
    "    else:\n",
    "        print (\"{k}:\\t不一樣\\t{c1}\\t{c2}\".format(k=x, c1=urlp_文章[x], c2=urlp_公眾))\n"
   ]
  },
  {
   "cell_type": "code",
   "execution_count": null,
   "metadata": {},
   "outputs": [],
   "source": [
    "from urllib.parse import urlparse, parse_qsl\n",
    "print ( parse_qsl(urlp_公眾['query']) )\n",
    "print ( parse_qsl(urlp_文章['query']) )"
   ]
  },
  {
   "cell_type": "markdown",
   "metadata": {},
   "source": [
    "# 公眾  type = 1  ;     文章  type = 2  "
   ]
  },
  {
   "cell_type": "code",
   "execution_count": null,
   "metadata": {
    "collapsed": true
   },
   "outputs": [],
   "source": []
  },
  {
   "cell_type": "code",
   "execution_count": null,
   "metadata": {
    "collapsed": true
   },
   "outputs": [],
   "source": []
  },
  {
   "cell_type": "code",
   "execution_count": null,
   "metadata": {
    "collapsed": true
   },
   "outputs": [],
   "source": []
  },
  {
   "cell_type": "code",
   "execution_count": null,
   "metadata": {
    "collapsed": true
   },
   "outputs": [],
   "source": []
  }
 ],
 "metadata": {
  "kernelspec": {
   "display_name": "Python 3",
   "language": "python",
   "name": "python3"
  },
  "language_info": {
   "codemirror_mode": {
    "name": "ipython",
    "version": 3
   },
   "file_extension": ".py",
   "mimetype": "text/x-python",
   "name": "python",
   "nbconvert_exporter": "python",
   "pygments_lexer": "ipython3",
   "version": "3.6.1"
  }
 },
 "nbformat": 4,
 "nbformat_minor": 2
}
